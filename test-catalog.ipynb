{
 "cells": [
  {
   "cell_type": "markdown",
   "id": "natural-hypothetical",
   "metadata": {},
   "source": [
    "# Generate example static catalog for S1 RTC on AWS\n",
    "\n",
    "https://registry.opendata.aws/sentinel-1-rtc-indigo/\n",
    "\n",
    "| Location | MGRS |\n",
    "| - | - | \n",
    "| West coast (WA state) | 10UCU |\n",
    "| US-canada border | 10UFV |\n",
    "| Central UTM boundary 12/13 (Colorado) | 12SYJ, 13SBD | \n",
    "| Gulf coast | 17RMJ, 15RUN |\n",
    "| East coast | 19TCH |\n",
    "\n",
    "With the following nested catalog structure:\n",
    "```\n",
    ".\n",
    "├── <MGRS>\n",
    "│   └── <YEAR>\n",
    "│       ├── S1A_20170102_19TCH_ASC.json\n",
    "│       ├── S1A_20170107_19TCH_ASC.json\n",
    "│       └── S1A_20170114_19TCH_ASC.json\n",
    "└── catalog.json\n",
    "```"
   ]
  },
  {
   "cell_type": "code",
   "execution_count": null,
   "id": "difficult-cooperation",
   "metadata": {},
   "outputs": [],
   "source": [
    "# Requires https://github.com/scottyhq/stactools/tree/sentinel1\n",
    "#!pip install --no-deps -e ../stactools"
   ]
  },
  {
   "cell_type": "code",
   "execution_count": null,
   "id": "blank-absorption",
   "metadata": {},
   "outputs": [],
   "source": [
    "import s3fs\n",
    "\n",
    "import pystac\n",
    "from pystac import Catalog, Collection, CatalogType\n",
    "from pystac.layout import TemplateLayoutStrategy\n",
    "from stactools.sentinel1.stac import create_item, create_collection\n",
    "\n",
    "\n",
    "%load_ext autoreload\n",
    "%autoreload 2"
   ]
  },
  {
   "cell_type": "code",
   "execution_count": null,
   "id": "meaning-village",
   "metadata": {},
   "outputs": [],
   "source": [
    "s3 = s3fs.S3FileSystem(anon=True)"
   ]
  },
  {
   "cell_type": "raw",
   "id": "excellent-ferry",
   "metadata": {},
   "source": [
    "# Find earliest date -> 20160729\n",
    "s3 = s3fs.S3FileSystem(anon=True)\n",
    "files = s3.glob('s3://sentinel-s1-rtc-indigo/tiles/RTC/1/IW/*/*/*/2016/*/')\n",
    "dates = [x[-18:-10] for x in files]\n",
    "min(dates) #20160729"
   ]
  },
  {
   "cell_type": "raw",
   "id": "literary-employer",
   "metadata": {},
   "source": [
    "# Get URIs for 3 tiles per year for each MGRS square\n",
    "base_url = 's3://sentinel-s1-rtc-indigo/tiles/RTC/1/IW'\n",
    "grid_squares = ['10UCU', '10UFV', '12SYJ', '13SBD', '17RMJ', '15RUN', '19TCH']\n",
    "years = [2016, 2017, 2018, 2019, 2020, 2021]\n",
    "n_items = 3\n",
    "\n",
    "paths = []\n",
    "for mgrs in grid_squares:\n",
    "    for year in years:\n",
    "        utm_zone = mgrs[:2] \n",
    "        latitude_band = mgrs[2] \n",
    "        grid_square = mgrs[3:] \n",
    "        s3Path = f'{base_url}/{utm_zone}/{latitude_band}/{grid_square}/{year}'\n",
    "        items = s3.ls(s3Path)\n",
    "        if len(items)>0: #some tiles do not have data from 2016 or earlier\n",
    "            paths += items[:n_items]\n",
    "\n",
    "print(len(paths))            \n",
    "            \n",
    "#write these out to a text file\n",
    "with open('paths.txt','w') as f:\n",
    "    f.write('\\n'.join(paths))"
   ]
  },
  {
   "cell_type": "code",
   "execution_count": null,
   "id": "impressive-penny",
   "metadata": {},
   "outputs": [],
   "source": [
    "# Load previously saved paths \n",
    "with open('paths.txt') as f:\n",
    "    paths = [x.rstrip() for x in f.readlines()]"
   ]
  },
  {
   "cell_type": "code",
   "execution_count": null,
   "id": "demographic-writer",
   "metadata": {},
   "outputs": [],
   "source": [
    "paths[:4]"
   ]
  },
  {
   "cell_type": "code",
   "execution_count": null,
   "id": "silver-mirror",
   "metadata": {},
   "outputs": [],
   "source": [
    "def s3_to_http(s3path, region='us-west-2'):\n",
    "    s3prefix = 'sentinel-s1-rtc-indigo'\n",
    "    newprefix = f'https://sentinel-s1-rtc-indigo.s3.{region}.amazonaws.com'\n",
    "    http = s3path.replace(s3prefix, newprefix)\n",
    "    #print(http)\n",
    "    return http"
   ]
  },
  {
   "cell_type": "code",
   "execution_count": null,
   "id": "graphic-boutique",
   "metadata": {},
   "outputs": [],
   "source": [
    "# Test creating single item\n",
    "#print(paths[0])\n",
    "#s3_to_http(f'{paths[0]}')\n",
    "\n",
    "#import rasterio\n",
    "#with rasterio.open(s3_to_http(f'{paths[0]}')+'/local_incident_angle.tif') as src:\n",
    "#    print(src.profile)"
   ]
  },
  {
   "cell_type": "code",
   "execution_count": null,
   "id": "vital-ambassador",
   "metadata": {},
   "outputs": [],
   "source": [
    "%%time\n",
    "item = create_item(s3_to_http(f'{paths[0]}'))"
   ]
  },
  {
   "cell_type": "code",
   "execution_count": null,
   "id": "forbidden-elevation",
   "metadata": {},
   "outputs": [],
   "source": [
    "# View the JSON\n",
    "#import json\n",
    "#print(json.dumps(item.to_dict(), indent=1))\n",
    "\n",
    "# Validate in-memory STAC\n",
    "#item.validate()\n",
    "\n",
    "# Validate on-disk STAC\n",
    "# pystac.read_file(f'{dst}/{dst}.json').validate()"
   ]
  },
  {
   "cell_type": "code",
   "execution_count": null,
   "id": "saving-banking",
   "metadata": {},
   "outputs": [],
   "source": [
    "%%time \n",
    "# Generate all the items serially (could easily parallelize)\n",
    "items = [create_item(s3_to_http(f'{i}')) for i in paths]"
   ]
  },
  {
   "cell_type": "code",
   "execution_count": null,
   "id": "piano-edition",
   "metadata": {},
   "outputs": [],
   "source": [
    "# Add items to a catalog\n",
    "#catalog = Catalog(id='sentinel1-rtc',\n",
    "#                  description='Sentinel1 radiometric terrain corrected backscatter (RTC)'\n",
    "#                 )\n",
    "\n",
    "#catalog.add_items(items)\n",
    "#print(len(catalog)) #TypeError: object of type 'Catalog' has no len()\n",
    "#catalog.describe()\n",
    "\n",
    "# Save the catalog in current directory\n",
    "#catalog.normalize_hrefs('./')\n",
    "#catalog.validate()\n",
    "#catalog.save(catalog_type=pystac.CatalogType.RELATIVE_PUBLISHED)"
   ]
  },
  {
   "cell_type": "code",
   "execution_count": null,
   "id": "entitled-processing",
   "metadata": {},
   "outputs": [],
   "source": [
    "collection = create_collection()\n",
    "collection.add_items(items)\n",
    "collection.describe()"
   ]
  },
  {
   "cell_type": "code",
   "execution_count": null,
   "id": "thrown-shoulder",
   "metadata": {},
   "outputs": [],
   "source": [
    "# Save the catalog in current directory\n",
    "template = '${sentinel:mgrs}/${year}'\n",
    "collection.generate_subcatalogs(template=template)\n",
    "collection.describe()"
   ]
  },
  {
   "cell_type": "code",
   "execution_count": null,
   "id": "original-grace",
   "metadata": {},
   "outputs": [],
   "source": [
    "collection.normalize_hrefs('./')\n",
    "collection.validate()"
   ]
  },
  {
   "cell_type": "code",
   "execution_count": null,
   "id": "electric-hometown",
   "metadata": {},
   "outputs": [],
   "source": [
    "collection.save(catalog_type=pystac.CatalogType.RELATIVE_PUBLISHED)"
   ]
  },
  {
   "cell_type": "markdown",
   "id": "false-williams",
   "metadata": {},
   "source": [
    "# Modify existing catalog"
   ]
  },
  {
   "cell_type": "code",
   "execution_count": null,
   "id": "wrong-disability",
   "metadata": {},
   "outputs": [],
   "source": [
    "#catalog = pystac.read_file('catalog.json')"
   ]
  },
  {
   "cell_type": "code",
   "execution_count": null,
   "id": "interracial-proxy",
   "metadata": {},
   "outputs": [],
   "source": [
    "#item = catalog.get_item('S1A_20170101_10UCU_ASC')\n",
    "#item.properties"
   ]
  },
  {
   "cell_type": "code",
   "execution_count": null,
   "id": "south-going",
   "metadata": {},
   "outputs": [],
   "source": [
    "#template = '${sentinel:utm_zone}${sentinel:latitude_band}${sentinel:grid_square}/${year}'\n",
    "#strategy = TemplateLayoutStrategy(item_template=template)\n",
    "#catalog.normalize_hrefs('./test', strategy=strategy)\n",
    "#catalog.save(catalog_type=CatalogType.SELF_CONTAINED)"
   ]
  }
 ],
 "metadata": {
  "kernelspec": {
   "display_name": "Python 3",
   "language": "python",
   "name": "python3"
  },
  "language_info": {
   "codemirror_mode": {
    "name": "ipython",
    "version": 3
   },
   "file_extension": ".py",
   "mimetype": "text/x-python",
   "name": "python",
   "nbconvert_exporter": "python",
   "pygments_lexer": "ipython3",
   "version": "3.8.6"
  }
 },
 "nbformat": 4,
 "nbformat_minor": 5
}
