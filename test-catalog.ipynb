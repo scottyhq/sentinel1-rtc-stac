{
 "cells": [
  {
   "cell_type": "markdown",
   "id": "brief-instrumentation",
   "metadata": {},
   "source": [
    "# Generate example static catalog for S1 RTC on AWS\n",
    "\n",
    "https://registry.opendata.aws/sentinel-1-rtc-indigo/\n",
    "\n",
    "| Location | MGRS |\n",
    "| - | - | \n",
    "| West coast (WA state) | 10UCU |\n",
    "| US-canada border | 10UFV |\n",
    "| Central UTM boundary 12/13 (Colorado) | 12SYJ, 13SBD | \n",
    "| Gulf coast | 17RMJ, 15RUN |\n",
    "| East coast | 19TCH |\n",
    "\n",
    "With the following nested catalog structure:\n",
    "```\n",
    ".\n",
    "├── <MGRS>\n",
    "│   └── <YEAR>\n",
    "│       ├── S1A_20170102_19TCH_ASC.json\n",
    "│       ├── S1A_20170107_19TCH_ASC.json\n",
    "│       └── S1A_20170114_19TCH_ASC.json\n",
    "└── catalog.json\n",
    "```"
   ]
  },
  {
   "cell_type": "code",
   "execution_count": 1,
   "id": "purple-hindu",
   "metadata": {},
   "outputs": [],
   "source": [
    "import s3fs\n",
    "\n",
    "import pystac\n",
    "from pystac import Catalog, Collection, CatalogType\n",
    "from pystac.layout import TemplateLayoutStrategy\n",
    "from stactools.sentinel1.stac import create_item, create_collection\n",
    "\n",
    "\n",
    "%load_ext autoreload\n",
    "%autoreload 2"
   ]
  },
  {
   "cell_type": "code",
   "execution_count": 2,
   "id": "continuous-petite",
   "metadata": {},
   "outputs": [],
   "source": [
    "# Find earliest date -> 20160729\n",
    "#s3 = s3fs.S3FileSystem(anon=True)\n",
    "#files = s3.glob('s3://sentinel-s1-rtc-indigo/tiles/RTC/1/IW/*/*/*/2016/*/')\n",
    "#dates = [x[-18:-10] for x in files]\n",
    "#min(dates) 20160729"
   ]
  },
  {
   "cell_type": "code",
   "execution_count": 3,
   "id": "russian-polyester",
   "metadata": {},
   "outputs": [],
   "source": [
    "# install development version of stactools (after git clone https://github.com/scottyhq/sentinel1-rtc-stac.git )\n",
    "#!pip install --no-deps -e ../stactools"
   ]
  },
  {
   "cell_type": "code",
   "execution_count": 4,
   "id": "banned-theology",
   "metadata": {},
   "outputs": [],
   "source": [
    "s3 = s3fs.S3FileSystem(anon=True)"
   ]
  },
  {
   "cell_type": "code",
   "execution_count": 5,
   "id": "prescribed-lexington",
   "metadata": {},
   "outputs": [],
   "source": [
    "# Get URIs for 3 tiles per year for each MGRS square\n",
    "base_url = 's3://sentinel-s1-rtc-indigo/tiles/RTC/1/IW'\n",
    "grid_squares = ['10UCU', '10UFV', '12SYJ', '13SBD', '17RMJ', '15RUN', '19TCH']\n",
    "years = [2016, 2017, 2018, 2019, 2020, 2021]\n",
    "n_items = 3\n",
    "\n",
    "paths = []\n",
    "for mgrs in grid_squares:\n",
    "    for year in years:\n",
    "        utm_zone = mgrs[:2] \n",
    "        latitude_band = mgrs[2] \n",
    "        grid_square = mgrs[3:] \n",
    "        s3Path = f'{base_url}/{utm_zone}/{latitude_band}/{grid_square}/{year}'\n",
    "        items = s3.ls(s3Path)\n",
    "        if len(items)>0: #some tiles do not have data from 2016 or earlier\n",
    "            paths += items[:n_items]"
   ]
  },
  {
   "cell_type": "code",
   "execution_count": 6,
   "id": "pursuant-newfoundland",
   "metadata": {},
   "outputs": [
    {
     "data": {
      "text/plain": [
       "108"
      ]
     },
     "execution_count": 6,
     "metadata": {},
     "output_type": "execute_result"
    }
   ],
   "source": [
    "len(paths)"
   ]
  },
  {
   "cell_type": "code",
   "execution_count": 7,
   "id": "killing-extraction",
   "metadata": {},
   "outputs": [],
   "source": [
    "#write these out to a text file\n",
    "with open('paths.txt','w') as f:\n",
    "    f.write('\\n'.join(paths))"
   ]
  },
  {
   "cell_type": "code",
   "execution_count": 8,
   "id": "numerous-rogers",
   "metadata": {},
   "outputs": [],
   "source": [
    "def s3_to_http(s3path, region='us-west-2'):\n",
    "    s3prefix = 'sentinel-s1-rtc-indigo'\n",
    "    newprefix = f'https://sentinel-s1-rtc-indigo.s3.{region}.amazonaws.com'\n",
    "    http = s3path.replace(s3prefix, newprefix)\n",
    "    #print(http)\n",
    "    return http"
   ]
  },
  {
   "cell_type": "code",
   "execution_count": null,
   "id": "forward-joyce",
   "metadata": {},
   "outputs": [],
   "source": [
    "# Test creating single item\n",
    "#print(paths[0])\n",
    "#s3_to_http(f'{paths[0]}')\n",
    "\n",
    "#import rasterio\n",
    "#with rasterio.open(s3_to_http(f'{paths[0]}')+'/local_incident_angle.tif') as src:\n",
    "#    print(src.profile)"
   ]
  },
  {
   "cell_type": "code",
   "execution_count": 17,
   "id": "statewide-omega",
   "metadata": {},
   "outputs": [
    {
     "name": "stdout",
     "output_type": "stream",
     "text": [
      "CPU times: user 849 ms, sys: 120 ms, total: 969 ms\n",
      "Wall time: 1.6 s\n"
     ]
    }
   ],
   "source": [
    "%%time\n",
    "item = create_item(s3_to_http(f'{paths[0]}'))"
   ]
  },
  {
   "cell_type": "code",
   "execution_count": 19,
   "id": "innovative-ontario",
   "metadata": {},
   "outputs": [],
   "source": [
    "# View the JSON\n",
    "#import json\n",
    "#print(json.dumps(item.to_dict(), indent=1))\n",
    "\n",
    "# Validate in-memory STAC\n",
    "#item.validate()\n",
    "\n",
    "# Validate on-disk STAC\n",
    "# pystac.read_file(f'{dst}/{dst}.json').validate()"
   ]
  },
  {
   "cell_type": "code",
   "execution_count": 20,
   "id": "shared-defensive",
   "metadata": {},
   "outputs": [
    {
     "name": "stdout",
     "output_type": "stream",
     "text": [
      "CPU times: user 1min 52s, sys: 16.6 s, total: 2min 9s\n",
      "Wall time: 3min 50s\n"
     ]
    }
   ],
   "source": [
    "%%time \n",
    "# Generate all the items serially (could easily parallelize)\n",
    "items = [create_item(s3_to_http(f'{i}')) for i in paths]"
   ]
  },
  {
   "cell_type": "code",
   "execution_count": null,
   "id": "irish-journalist",
   "metadata": {},
   "outputs": [],
   "source": [
    "# Add items to a catalog\n",
    "#catalog = Catalog(id='sentinel1-rtc',\n",
    "#                  description='Sentinel1 radiometric terrain corrected backscatter (RTC)'\n",
    "#                 )\n",
    "\n",
    "#catalog.add_items(items)\n",
    "#print(len(catalog)) #TypeError: object of type 'Catalog' has no len()\n",
    "#catalog.describe()\n",
    "\n",
    "# Save the catalog in current directory\n",
    "#catalog.normalize_hrefs('./')\n",
    "#catalog.validate()\n",
    "#catalog.save(catalog_type=pystac.CatalogType.RELATIVE_PUBLISHED)"
   ]
  },
  {
   "cell_type": "code",
   "execution_count": 23,
   "id": "younger-turkey",
   "metadata": {},
   "outputs": [
    {
     "name": "stdout",
     "output_type": "stream",
     "text": [
      "* <Collection id=sentinel1-rtc-aws>\n",
      "  * <Item id=S1A_20170101_10UCU_ASC>\n",
      "  * <Item id=S1A_20170125_10UCU_ASC>\n",
      "  * <Item id=S1B_20170102_10UCU_ASC>\n",
      "  * <Item id=S1B_20180102_10UCU_ASC>\n",
      "  * <Item id=S1B_20180107_10UCU_ASC>\n",
      "  * <Item id=S1B_20180109_10UCU_ASC>\n",
      "  * <Item id=S1B_20190102_10UCU_ASC>\n",
      "  * <Item id=S1B_20190104_10UCU_ASC>\n",
      "  * <Item id=S1B_20190109_10UCU_ASC>\n",
      "  * <Item id=S1B_20200109_10UCU_ASC>\n",
      "  * <Item id=S1B_20200111_10UCU_ASC>\n",
      "  * <Item id=S1B_20200121_10UCU_ASC>\n",
      "  * <Item id=S1B_20210101_10UCU_DSC>\n",
      "  * <Item id=S1B_20210105_10UCU_ASC>\n",
      "  * <Item id=S1B_20210108_10UCU_DSC>\n",
      "  * <Item id=S1B_20170102_10UFV_ASC>\n",
      "  * <Item id=S1B_20170104_10UFV_ASC>\n",
      "  * <Item id=S1B_20170121_10UFV_ASC>\n",
      "  * <Item id=S1B_20180104_10UFV_ASC>\n",
      "  * <Item id=S1B_20180109_10UFV_ASC>\n",
      "  * <Item id=S1B_20180111_10UFV_ASC>\n",
      "  * <Item id=S1B_20190104_10UFV_ASC>\n",
      "  * <Item id=S1B_20190106_10UFV_ASC>\n",
      "  * <Item id=S1B_20190111_10UFV_ASC>\n",
      "  * <Item id=S1B_20200101_10UFV_ASC>\n",
      "  * <Item id=S1B_20200106_10UFV_ASC>\n",
      "  * <Item id=S1B_20200111_10UFV_ASC>\n",
      "  * <Item id=S1B_20210103_10UFV_DSC>\n",
      "  * <Item id=S1B_20210105_10UFV_ASC>\n",
      "  * <Item id=S1B_20210107_10UFV_ASC>\n",
      "  * <Item id=S1B_20161121_12SYJ_ASC>\n",
      "  * <Item id=S1A_20170207_12SYJ_ASC>\n",
      "  * <Item id=S1A_20170214_12SYJ_ASC>\n",
      "  * <Item id=S1B_20170108_12SYJ_ASC>\n",
      "  * <Item id=S1B_20180103_12SYJ_ASC>\n",
      "  * <Item id=S1B_20180110_12SYJ_ASC>\n",
      "  * <Item id=S1B_20180115_12SYJ_ASC>\n",
      "  * <Item id=S1B_20190110_12SYJ_ASC>\n",
      "  * <Item id=S1B_20190122_12SYJ_ASC>\n",
      "  * <Item id=S1B_20190203_12SYJ_ASC>\n",
      "  * <Item id=S1A_20200831_12SYJ_DSC>\n",
      "  * <Item id=S1A_20200907_12SYJ_DSC>\n",
      "  * <Item id=S1A_20200912_12SYJ_DSC>\n",
      "  * <Item id=S1A_20210105_12SYJ_DSC>\n",
      "  * <Item id=S1A_20210110_12SYJ_DSC>\n",
      "  * <Item id=S1A_20210117_12SYJ_DSC>\n",
      "  * <Item id=S1B_20161121_13SBD_ASC>\n",
      "  * <Item id=S1A_20170207_13SBD_ASC>\n",
      "  * <Item id=S1A_20170214_13SBD_ASC>\n",
      "  * <Item id=S1B_20170108_13SBD_ASC>\n",
      "  * <Item id=S1B_20180103_13SBD_ASC>\n",
      "  * <Item id=S1B_20180110_13SBD_ASC>\n",
      "  * <Item id=S1B_20180115_13SBD_ASC>\n",
      "  * <Item id=S1B_20190110_13SBD_ASC>\n",
      "  * <Item id=S1B_20190122_13SBD_ASC>\n",
      "  * <Item id=S1B_20190203_13SBD_ASC>\n",
      "  * <Item id=S1A_20200831_13SBD_DSC>\n",
      "  * <Item id=S1A_20200907_13SBD_DSC>\n",
      "  * <Item id=S1A_20200912_13SBD_DSC>\n",
      "  * <Item id=S1A_20210105_13SBD_DSC>\n",
      "  * <Item id=S1A_20210110_13SBD_DSC>\n",
      "  * <Item id=S1A_20210117_13SBD_DSC>\n",
      "  * <Item id=S1A_20170101_17RMJ_ASC>\n",
      "  * <Item id=S1A_20170113_17RMJ_ASC>\n",
      "  * <Item id=S1A_20170125_17RMJ_ASC>\n",
      "  * <Item id=S1A_20180101_17RMJ_ASC>\n",
      "  * <Item id=S1A_20180108_17RMJ_ASC>\n",
      "  * <Item id=S1A_20180113_17RMJ_ASC>\n",
      "  * <Item id=S1A_20190103_17RMJ_ASC>\n",
      "  * <Item id=S1A_20190108_17RMJ_ASC>\n",
      "  * <Item id=S1A_20190115_17RMJ_ASC>\n",
      "  * <Item id=S1A_20200103_17RMJ_ASC>\n",
      "  * <Item id=S1A_20200110_17RMJ_ASC>\n",
      "  * <Item id=S1A_20200115_17RMJ_ASC>\n",
      "  * <Item id=S1A_20210104_17RMJ_ASC>\n",
      "  * <Item id=S1A_20210109_17RMJ_ASC>\n",
      "  * <Item id=S1A_20210121_17RMJ_ASC>\n",
      "  * <Item id=S1A_20161121_15RUN_ASC>\n",
      "  * <Item id=S1A_20170101_15RUN_ASC>\n",
      "  * <Item id=S1A_20170108_15RUN_ASC>\n",
      "  * <Item id=S1A_20170113_15RUN_ASC>\n",
      "  * <Item id=S1A_20180108_15RUN_ASC>\n",
      "  * <Item id=S1A_20180115_15RUN_ASC>\n",
      "  * <Item id=S1A_20180120_15RUN_ASC>\n",
      "  * <Item id=S1A_20190103_15RUN_ASC>\n",
      "  * <Item id=S1A_20190110_15RUN_ASC>\n",
      "  * <Item id=S1A_20190115_15RUN_ASC>\n",
      "  * <Item id=S1A_20200110_15RUN_ASC>\n",
      "  * <Item id=S1A_20200117_15RUN_ASC>\n",
      "  * <Item id=S1A_20200122_15RUN_ASC>\n",
      "  * <Item id=S1A_20210104_15RUN_ASC>\n",
      "  * <Item id=S1A_20210111_15RUN_ASC>\n",
      "  * <Item id=S1A_20210111_15RUN_DSC>\n",
      "  * <Item id=S1A_20170102_19TCH_ASC>\n",
      "  * <Item id=S1A_20170107_19TCH_ASC>\n",
      "  * <Item id=S1A_20170114_19TCH_ASC>\n",
      "  * <Item id=S1A_20180102_19TCH_ASC>\n",
      "  * <Item id=S1A_20180109_19TCH_ASC>\n",
      "  * <Item id=S1A_20180114_19TCH_ASC>\n",
      "  * <Item id=S1A_20190104_19TCH_ASC>\n",
      "  * <Item id=S1A_20190109_19TCH_ASC>\n",
      "  * <Item id=S1A_20190116_19TCH_ASC>\n",
      "  * <Item id=S1A_20200104_19TCH_ASC>\n",
      "  * <Item id=S1A_20200111_19TCH_ASC>\n",
      "  * <Item id=S1A_20200116_19TCH_ASC>\n",
      "  * <Item id=S1A_20210105_19TCH_ASC>\n",
      "  * <Item id=S1A_20210110_19TCH_ASC>\n",
      "  * <Item id=S1A_20210117_19TCH_ASC>\n"
     ]
    }
   ],
   "source": [
    "collection = create_collection()\n",
    "collection.add_items(items)\n",
    "collection.describe()"
   ]
  },
  {
   "cell_type": "code",
   "execution_count": 24,
   "id": "earned-operator",
   "metadata": {},
   "outputs": [
    {
     "name": "stdout",
     "output_type": "stream",
     "text": [
      "* <Collection id=sentinel1-rtc-aws>\n",
      "    * <Catalog id=10UCU>\n",
      "        * <Catalog id=2017>\n",
      "          * <Item id=S1A_20170101_10UCU_ASC>\n",
      "          * <Item id=S1A_20170125_10UCU_ASC>\n",
      "          * <Item id=S1B_20170102_10UCU_ASC>\n",
      "        * <Catalog id=2018>\n",
      "          * <Item id=S1B_20180102_10UCU_ASC>\n",
      "          * <Item id=S1B_20180107_10UCU_ASC>\n",
      "          * <Item id=S1B_20180109_10UCU_ASC>\n",
      "        * <Catalog id=2019>\n",
      "          * <Item id=S1B_20190102_10UCU_ASC>\n",
      "          * <Item id=S1B_20190104_10UCU_ASC>\n",
      "          * <Item id=S1B_20190109_10UCU_ASC>\n",
      "        * <Catalog id=2020>\n",
      "          * <Item id=S1B_20200109_10UCU_ASC>\n",
      "          * <Item id=S1B_20200111_10UCU_ASC>\n",
      "          * <Item id=S1B_20200121_10UCU_ASC>\n",
      "        * <Catalog id=2021>\n",
      "          * <Item id=S1B_20210101_10UCU_DSC>\n",
      "          * <Item id=S1B_20210105_10UCU_ASC>\n",
      "          * <Item id=S1B_20210108_10UCU_DSC>\n",
      "    * <Catalog id=10UFV>\n",
      "        * <Catalog id=2017>\n",
      "          * <Item id=S1B_20170102_10UFV_ASC>\n",
      "          * <Item id=S1B_20170104_10UFV_ASC>\n",
      "          * <Item id=S1B_20170121_10UFV_ASC>\n",
      "        * <Catalog id=2018>\n",
      "          * <Item id=S1B_20180104_10UFV_ASC>\n",
      "          * <Item id=S1B_20180109_10UFV_ASC>\n",
      "          * <Item id=S1B_20180111_10UFV_ASC>\n",
      "        * <Catalog id=2019>\n",
      "          * <Item id=S1B_20190104_10UFV_ASC>\n",
      "          * <Item id=S1B_20190106_10UFV_ASC>\n",
      "          * <Item id=S1B_20190111_10UFV_ASC>\n",
      "        * <Catalog id=2020>\n",
      "          * <Item id=S1B_20200101_10UFV_ASC>\n",
      "          * <Item id=S1B_20200106_10UFV_ASC>\n",
      "          * <Item id=S1B_20200111_10UFV_ASC>\n",
      "        * <Catalog id=2021>\n",
      "          * <Item id=S1B_20210103_10UFV_DSC>\n",
      "          * <Item id=S1B_20210105_10UFV_ASC>\n",
      "          * <Item id=S1B_20210107_10UFV_ASC>\n",
      "    * <Catalog id=12SYJ>\n",
      "        * <Catalog id=2016>\n",
      "          * <Item id=S1B_20161121_12SYJ_ASC>\n",
      "        * <Catalog id=2017>\n",
      "          * <Item id=S1A_20170207_12SYJ_ASC>\n",
      "          * <Item id=S1A_20170214_12SYJ_ASC>\n",
      "          * <Item id=S1B_20170108_12SYJ_ASC>\n",
      "        * <Catalog id=2018>\n",
      "          * <Item id=S1B_20180103_12SYJ_ASC>\n",
      "          * <Item id=S1B_20180110_12SYJ_ASC>\n",
      "          * <Item id=S1B_20180115_12SYJ_ASC>\n",
      "        * <Catalog id=2019>\n",
      "          * <Item id=S1B_20190110_12SYJ_ASC>\n",
      "          * <Item id=S1B_20190122_12SYJ_ASC>\n",
      "          * <Item id=S1B_20190203_12SYJ_ASC>\n",
      "        * <Catalog id=2020>\n",
      "          * <Item id=S1A_20200831_12SYJ_DSC>\n",
      "          * <Item id=S1A_20200907_12SYJ_DSC>\n",
      "          * <Item id=S1A_20200912_12SYJ_DSC>\n",
      "        * <Catalog id=2021>\n",
      "          * <Item id=S1A_20210105_12SYJ_DSC>\n",
      "          * <Item id=S1A_20210110_12SYJ_DSC>\n",
      "          * <Item id=S1A_20210117_12SYJ_DSC>\n",
      "    * <Catalog id=13SBD>\n",
      "        * <Catalog id=2016>\n",
      "          * <Item id=S1B_20161121_13SBD_ASC>\n",
      "        * <Catalog id=2017>\n",
      "          * <Item id=S1A_20170207_13SBD_ASC>\n",
      "          * <Item id=S1A_20170214_13SBD_ASC>\n",
      "          * <Item id=S1B_20170108_13SBD_ASC>\n",
      "        * <Catalog id=2018>\n",
      "          * <Item id=S1B_20180103_13SBD_ASC>\n",
      "          * <Item id=S1B_20180110_13SBD_ASC>\n",
      "          * <Item id=S1B_20180115_13SBD_ASC>\n",
      "        * <Catalog id=2019>\n",
      "          * <Item id=S1B_20190110_13SBD_ASC>\n",
      "          * <Item id=S1B_20190122_13SBD_ASC>\n",
      "          * <Item id=S1B_20190203_13SBD_ASC>\n",
      "        * <Catalog id=2020>\n",
      "          * <Item id=S1A_20200831_13SBD_DSC>\n",
      "          * <Item id=S1A_20200907_13SBD_DSC>\n",
      "          * <Item id=S1A_20200912_13SBD_DSC>\n",
      "        * <Catalog id=2021>\n",
      "          * <Item id=S1A_20210105_13SBD_DSC>\n",
      "          * <Item id=S1A_20210110_13SBD_DSC>\n",
      "          * <Item id=S1A_20210117_13SBD_DSC>\n",
      "    * <Catalog id=17RMJ>\n",
      "        * <Catalog id=2017>\n",
      "          * <Item id=S1A_20170101_17RMJ_ASC>\n",
      "          * <Item id=S1A_20170113_17RMJ_ASC>\n",
      "          * <Item id=S1A_20170125_17RMJ_ASC>\n",
      "        * <Catalog id=2018>\n",
      "          * <Item id=S1A_20180101_17RMJ_ASC>\n",
      "          * <Item id=S1A_20180108_17RMJ_ASC>\n",
      "          * <Item id=S1A_20180113_17RMJ_ASC>\n",
      "        * <Catalog id=2019>\n",
      "          * <Item id=S1A_20190103_17RMJ_ASC>\n",
      "          * <Item id=S1A_20190108_17RMJ_ASC>\n",
      "          * <Item id=S1A_20190115_17RMJ_ASC>\n",
      "        * <Catalog id=2020>\n",
      "          * <Item id=S1A_20200103_17RMJ_ASC>\n",
      "          * <Item id=S1A_20200110_17RMJ_ASC>\n",
      "          * <Item id=S1A_20200115_17RMJ_ASC>\n",
      "        * <Catalog id=2021>\n",
      "          * <Item id=S1A_20210104_17RMJ_ASC>\n",
      "          * <Item id=S1A_20210109_17RMJ_ASC>\n",
      "          * <Item id=S1A_20210121_17RMJ_ASC>\n",
      "    * <Catalog id=15RUN>\n",
      "        * <Catalog id=2016>\n",
      "          * <Item id=S1A_20161121_15RUN_ASC>\n",
      "        * <Catalog id=2017>\n",
      "          * <Item id=S1A_20170101_15RUN_ASC>\n",
      "          * <Item id=S1A_20170108_15RUN_ASC>\n",
      "          * <Item id=S1A_20170113_15RUN_ASC>\n",
      "        * <Catalog id=2018>\n",
      "          * <Item id=S1A_20180108_15RUN_ASC>\n",
      "          * <Item id=S1A_20180115_15RUN_ASC>\n",
      "          * <Item id=S1A_20180120_15RUN_ASC>\n",
      "        * <Catalog id=2019>\n",
      "          * <Item id=S1A_20190103_15RUN_ASC>\n",
      "          * <Item id=S1A_20190110_15RUN_ASC>\n",
      "          * <Item id=S1A_20190115_15RUN_ASC>\n",
      "        * <Catalog id=2020>\n",
      "          * <Item id=S1A_20200110_15RUN_ASC>\n",
      "          * <Item id=S1A_20200117_15RUN_ASC>\n",
      "          * <Item id=S1A_20200122_15RUN_ASC>\n",
      "        * <Catalog id=2021>\n",
      "          * <Item id=S1A_20210104_15RUN_ASC>\n",
      "          * <Item id=S1A_20210111_15RUN_ASC>\n",
      "          * <Item id=S1A_20210111_15RUN_DSC>\n",
      "    * <Catalog id=19TCH>\n",
      "        * <Catalog id=2017>\n",
      "          * <Item id=S1A_20170102_19TCH_ASC>\n",
      "          * <Item id=S1A_20170107_19TCH_ASC>\n",
      "          * <Item id=S1A_20170114_19TCH_ASC>\n",
      "        * <Catalog id=2018>\n",
      "          * <Item id=S1A_20180102_19TCH_ASC>\n",
      "          * <Item id=S1A_20180109_19TCH_ASC>\n",
      "          * <Item id=S1A_20180114_19TCH_ASC>\n",
      "        * <Catalog id=2019>\n",
      "          * <Item id=S1A_20190104_19TCH_ASC>\n",
      "          * <Item id=S1A_20190109_19TCH_ASC>\n",
      "          * <Item id=S1A_20190116_19TCH_ASC>\n",
      "        * <Catalog id=2020>\n",
      "          * <Item id=S1A_20200104_19TCH_ASC>\n",
      "          * <Item id=S1A_20200111_19TCH_ASC>\n",
      "          * <Item id=S1A_20200116_19TCH_ASC>\n",
      "        * <Catalog id=2021>\n",
      "          * <Item id=S1A_20210105_19TCH_ASC>\n",
      "          * <Item id=S1A_20210110_19TCH_ASC>\n",
      "          * <Item id=S1A_20210117_19TCH_ASC>\n"
     ]
    }
   ],
   "source": [
    "# Save the catalog in current directory\n",
    "template = '${sentinel:mgrs}/${year}'\n",
    "collection.generate_subcatalogs(template=template)\n",
    "collection.describe()"
   ]
  },
  {
   "cell_type": "code",
   "execution_count": 26,
   "id": "hidden-alias",
   "metadata": {},
   "outputs": [],
   "source": [
    "collection.normalize_hrefs('./')\n",
    "collection.validate()"
   ]
  },
  {
   "cell_type": "code",
   "execution_count": 27,
   "id": "framed-metabolism",
   "metadata": {},
   "outputs": [],
   "source": [
    "collection.save(catalog_type=pystac.CatalogType.RELATIVE_PUBLISHED)"
   ]
  },
  {
   "cell_type": "markdown",
   "id": "speaking-malawi",
   "metadata": {},
   "source": [
    "# Modify existing catalog"
   ]
  },
  {
   "cell_type": "code",
   "execution_count": null,
   "id": "demanding-chair",
   "metadata": {},
   "outputs": [],
   "source": [
    "#catalog = pystac.read_file('catalog.json')"
   ]
  },
  {
   "cell_type": "code",
   "execution_count": null,
   "id": "exceptional-possibility",
   "metadata": {},
   "outputs": [],
   "source": [
    "#item = catalog.get_item('S1A_20170101_10UCU_ASC')\n",
    "#item.properties"
   ]
  },
  {
   "cell_type": "code",
   "execution_count": null,
   "id": "closing-class",
   "metadata": {},
   "outputs": [],
   "source": [
    "#template = '${sentinel:utm_zone}${sentinel:latitude_band}${sentinel:grid_square}/${year}'\n",
    "#strategy = TemplateLayoutStrategy(item_template=template)\n",
    "#catalog.normalize_hrefs('./test', strategy=strategy)\n",
    "#catalog.save(catalog_type=CatalogType.SELF_CONTAINED)"
   ]
  }
 ],
 "metadata": {
  "kernelspec": {
   "display_name": "Python 3",
   "language": "python",
   "name": "python3"
  },
  "language_info": {
   "codemirror_mode": {
    "name": "ipython",
    "version": 3
   },
   "file_extension": ".py",
   "mimetype": "text/x-python",
   "name": "python",
   "nbconvert_exporter": "python",
   "pygments_lexer": "ipython3",
   "version": "3.8.6"
  }
 },
 "nbformat": 4,
 "nbformat_minor": 5
}
