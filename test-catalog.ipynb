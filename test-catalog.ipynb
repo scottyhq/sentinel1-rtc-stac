{
 "cells": [
  {
   "cell_type": "markdown",
   "id": "blocked-florida",
   "metadata": {},
   "source": [
    "# Generate example static catalog for S1 RTC on AWS"
   ]
  },
  {
   "cell_type": "code",
   "execution_count": null,
   "id": "upset-paragraph",
   "metadata": {},
   "outputs": [],
   "source": [
    "import s3fs\n",
    "import stactools\n",
    "import pystac\n",
    "from pystac import Catalog, Collection, CatalogType\n",
    "from stactools.sentinel1.stac import create_item\n",
    "\n",
    "\n",
    "%load_ext autoreload\n",
    "%autoreload 2"
   ]
  },
  {
   "cell_type": "code",
   "execution_count": null,
   "id": "choice-providence",
   "metadata": {},
   "outputs": [],
   "source": [
    "# install development version of stactools (after git clone https://github.com/scottyhq/sentinel1-rtc-stac.git )\n",
    "#!pip install --no-deps -e ../stactools"
   ]
  },
  {
   "cell_type": "markdown",
   "id": "subjective-foster",
   "metadata": {},
   "source": [
    "## A sampling of items around CONUS and over time \n",
    "\n",
    "| Location | MGRS |\n",
    "| - | - | \n",
    "| West coast (WA state) | 10UCU |\n",
    "| US-canada border | 10UFV |\n",
    "| Central UTM boundary 12/13 (Colorado) | 12SYJ, 13SBD | \n",
    "| Gulf coast | 17RMJ, 15RUN |\n",
    "| East coast | 19TCH |"
   ]
  },
  {
   "cell_type": "code",
   "execution_count": null,
   "id": "fundamental-certificate",
   "metadata": {},
   "outputs": [],
   "source": [
    "s3 = s3fs.S3FileSystem(anon=True)"
   ]
  },
  {
   "cell_type": "code",
   "execution_count": null,
   "id": "essential-insight",
   "metadata": {},
   "outputs": [],
   "source": [
    "# Get URIs for 3 tiles per year for each MGRS square\n",
    "base_url = 's3://sentinel-s1-rtc-indigo/tiles/RTC/1/IW'\n",
    "grid_squares = ['10UCU', '10UFV', '12SYJ', '13SBD', '17RMJ', '15RUN', '19TCH']\n",
    "years = [2016, 2017, 2018, 2019, 2020, 2021]\n",
    "n_items = 3\n",
    "\n",
    "paths = []\n",
    "for mgrs in grid_squares:\n",
    "    for year in years:\n",
    "        utm_zone = mgrs[:2] \n",
    "        latitude_band = mgrs[2] \n",
    "        grid_square = mgrs[3:] \n",
    "        s3Path = f'{base_url}/{utm_zone}/{latitude_band}/{grid_square}/{year}'\n",
    "        items = s3.ls(s3Path)\n",
    "        if len(items)>0: #some tiles do not have data from 2016 or earlier\n",
    "            paths += items[:n_items]"
   ]
  },
  {
   "cell_type": "code",
   "execution_count": null,
   "id": "dressed-synthesis",
   "metadata": {},
   "outputs": [],
   "source": [
    "len(paths)"
   ]
  },
  {
   "cell_type": "code",
   "execution_count": null,
   "id": "democratic-offer",
   "metadata": {},
   "outputs": [],
   "source": [
    "#write these out to a text file\n",
    "with open('paths.txt','w') as f:\n",
    "    f.write('\\n'.join(paths))"
   ]
  },
  {
   "cell_type": "code",
   "execution_count": null,
   "id": "pressed-pledge",
   "metadata": {},
   "outputs": [],
   "source": [
    "def s3_to_http(s3path, region='us-west-2'):\n",
    "    s3prefix = 'sentinel-s1-rtc-indigo'\n",
    "    newprefix = f'https://sentinel-s1-rtc-indigo.s3.{region}.amazonaws.com'\n",
    "    http = s3path.replace(s3prefix, newprefix)\n",
    "    #print(http)\n",
    "    return http"
   ]
  },
  {
   "cell_type": "code",
   "execution_count": null,
   "id": "architectural-smell",
   "metadata": {},
   "outputs": [],
   "source": [
    "# Test creating single item\n",
    "print(paths[0])\n",
    "s3_to_http(f'{paths[0]}')"
   ]
  },
  {
   "cell_type": "code",
   "execution_count": null,
   "id": "charitable-advocate",
   "metadata": {},
   "outputs": [],
   "source": [
    "import rasterio\n",
    "with rasterio.open(s3_to_http(f'{paths[0]}')+'/local_incident_angle.tif') as src:\n",
    "    print(src.profile)"
   ]
  },
  {
   "cell_type": "code",
   "execution_count": null,
   "id": "premier-sunrise",
   "metadata": {},
   "outputs": [],
   "source": [
    "%%time\n",
    "item = create_item(s3_to_http(f'{paths[0]}'))"
   ]
  },
  {
   "cell_type": "code",
   "execution_count": null,
   "id": "absent-senegal",
   "metadata": {},
   "outputs": [],
   "source": [
    "# View the JSON\n",
    "#import json\n",
    "#print(json.dumps(item.to_dict(), indent=1))\n",
    "\n",
    "# Validate in-memory STAC\n",
    "item.validate()\n",
    "\n",
    "# Validate on-disk STAC\n",
    "# pystac.read_file(f'{dst}/{dst}.json').validate()"
   ]
  },
  {
   "cell_type": "code",
   "execution_count": null,
   "id": "about-north",
   "metadata": {},
   "outputs": [],
   "source": [
    "%%time \n",
    "# Generate all the items (could easily parallelize)\n",
    "items = [create_item(s3_to_http(f'{i}')) for i in paths]"
   ]
  },
  {
   "cell_type": "code",
   "execution_count": null,
   "id": "better-processing",
   "metadata": {},
   "outputs": [],
   "source": [
    "# Add items to a catalog\n",
    "catalog = Catalog(id='sentinel1-rtc',\n",
    "                  description='Sentinel1 radiometric terrain corrected backscatter (RTC)'\n",
    "                 )\n",
    "catalog.add_items(items)\n",
    "#print(len(catalog)) #TypeError: object of type 'Catalog' has no len()\n",
    "catalog.describe()"
   ]
  },
  {
   "cell_type": "code",
   "execution_count": null,
   "id": "intended-velvet",
   "metadata": {},
   "outputs": [],
   "source": [
    "# Save the catalog in current directory\n",
    "catalog.normalize_hrefs('./')\n",
    "catalog.validate()\n",
    "catalog.save(catalog_type=pystac.CatalogType.RELATIVE_PUBLISHED)"
   ]
  },
  {
   "cell_type": "raw",
   "id": "everyday-arizona",
   "metadata": {},
   "source": [
    "# TODO:\n",
    "# re-arrange structure:\n",
    ".\n",
    "├── 19TCH\n",
    "│   └── 2017\n",
    "│       ├── S1A_20170102_19TCH_ASC.json\n",
    "│       ├── S1A_20170107_19TCH_ASC.json\n",
    "│       └── S1A_20170114_19TCH_ASC.json\n",
    "└── catalog.json\n",
    "    \n",
    "# Add additional items to existing catalog?"
   ]
  }
 ],
 "metadata": {
  "kernelspec": {
   "display_name": "Python 3",
   "language": "python",
   "name": "python3"
  },
  "language_info": {
   "codemirror_mode": {
    "name": "ipython",
    "version": 3
   },
   "file_extension": ".py",
   "mimetype": "text/x-python",
   "name": "python",
   "nbconvert_exporter": "python",
   "pygments_lexer": "ipython3",
   "version": "3.8.6"
  }
 },
 "nbformat": 4,
 "nbformat_minor": 5
}
